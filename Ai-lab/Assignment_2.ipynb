{
  "nbformat": 4,
  "nbformat_minor": 0,
  "metadata": {
    "colab": {
      "provenance": [],
      "authorship_tag": "ABX9TyM9lonhVhVvczmnSsQLVuDC",
      "include_colab_link": true
    },
    "kernelspec": {
      "name": "python3",
      "display_name": "Python 3"
    },
    "language_info": {
      "name": "python"
    }
  },
  "cells": [
    {
      "cell_type": "markdown",
      "metadata": {
        "id": "view-in-github",
        "colab_type": "text"
      },
      "source": [
        "<a href=\"https://colab.research.google.com/github/Mhamuda/CSE4211-Artificial_Intelligence_Lab/blob/main/Assignment_2.ipynb\" target=\"_parent\"><img src=\"https://colab.research.google.com/assets/colab-badge.svg\" alt=\"Open In Colab\"/></a>"
      ]
    },
    {
      "cell_type": "markdown",
      "source": [
        "# 1912076104_Assignment-2"
      ],
      "metadata": {
        "id": "w5GLvM90rGDc"
      }
    },
    {
      "cell_type": "markdown",
      "source": [
        "1. Build a CNN which exactly looks like VGG16. Transfer weights of pre-trained VGG16 to the newly built VGG16.\n",
        "\n",
        "2. Build a CNN which will look like VGG16, but will not be exactly VGG16."
      ],
      "metadata": {
        "id": "vnkcmMc6rPld"
      }
    },
    {
      "cell_type": "markdown",
      "source": [
        "Importing necessary modules"
      ],
      "metadata": {
        "id": "YbZ2eRjvEC8d"
      }
    },
    {
      "cell_type": "code",
      "source": [
        "import numpy as np\n",
        "import matplotlib.pyplot as plt\n",
        "from tensorflow.keras.models import Model\n",
        "from tensorflow.keras.layers import Input, Dense, Flatten, MaxPooling2D, Conv2D\n",
        "from tensorflow.keras.applications import vgg16"
      ],
      "metadata": {
        "id": "EpEQ2nlFrC61"
      },
      "execution_count": 13,
      "outputs": []
    },
    {
      "cell_type": "markdown",
      "source": [
        "Building a CNN which exactly looks like VGG16"
      ],
      "metadata": {
        "id": "M9GGrVbGrVOC"
      }
    },
    {
      "cell_type": "code",
      "source": [
        "inputs = Input((224, 224, 3))\n",
        "x = Conv2D(filters = 64, kernel_size=(3,3), activation = 'relu', name = 'block1_conv1', padding='same')(inputs)\n",
        "x = Conv2D(filters = 64, kernel_size=(3,3), activation = 'relu',name = 'block1_conv2', padding='same')(x)\n",
        "x = MaxPooling2D(name='block1_pool')(x)\n",
        "\n",
        "x = Conv2D(filters = 128, kernel_size=(3,3), activation = 'relu', name = 'block2_conv1', padding='same')(x)\n",
        "x = Conv2D(filters = 128, kernel_size=(3,3), activation = 'relu', name = 'block2_conv2', padding='same')(x)\n",
        "x = MaxPooling2D(name='block2_pool')(x)\n",
        "\n",
        "x = Conv2D(filters = 256, kernel_size=(3,3), activation = 'relu', name='block3_conv1', padding='same')(x)\n",
        "x = Conv2D(filters = 256, kernel_size=(3,3), activation = 'relu', name='block3_conv2', padding='same')(x)\n",
        "x = Conv2D(filters = 256, kernel_size=(3,3), activation = 'relu', name='block3_conv3', padding='same')(x)\n",
        "x = MaxPooling2D(name='block3_pool')(x)\n",
        "\n",
        "x = Conv2D(filters = 512, kernel_size=(3,3), activation = 'relu', name='block4_conv1', padding='same')(x)\n",
        "x = Conv2D(filters = 512, kernel_size=(3,3), activation = 'relu', name='block4_conv2', padding='same')(x)\n",
        "x = Conv2D(filters = 512, kernel_size=(3,3), activation = 'relu', name='block4_conv3', padding='same')(x)\n",
        "x = MaxPooling2D(name='block4_pool')(x)\n",
        "\n",
        "x = Conv2D(filters = 512, kernel_size=(3,3), activation = 'relu', name='block5_conv1', padding='same')(x)\n",
        "x = Conv2D(filters = 512, kernel_size=(3,3), activation = 'relu', name='block5_conv2', padding='same')(x)\n",
        "x = Conv2D(filters = 512, kernel_size=(3,3), activation = 'relu', name='block5_conv3', padding='same')(x)\n",
        "x = MaxPooling2D(name='block5_pool')(x)\n",
        "\n",
        "x = Flatten(name='flatten')(x)\n",
        "x = Dense(4096, activation='relu', name = 'fc1')(x)\n",
        "x = Dense(4096, activation='relu', name = 'fc2')(x)\n",
        "\n",
        "outputs = Dense(1000, activation = 'sigmoid',name = 'output_layer')(x)\n",
        "model = Model(inputs, outputs, name='my_vgg16_model')"
      ],
      "metadata": {
        "id": "fArDGsxMrXqq"
      },
      "execution_count": 14,
      "outputs": []
    },
    {
      "cell_type": "markdown",
      "source": [
        "Transfering weights from pre-trained VGG16 to the newly built VGG16"
      ],
      "metadata": {
        "id": "Lbz_5Leq7tvc"
      }
    },
    {
      "cell_type": "code",
      "source": [
        "vgg_model = vgg16.VGG16()\n",
        "\n",
        "for i in range(len(model.layers)):\n",
        "  customized_layer = model.layers[i]\n",
        "  vgg16_layer = vgg_model.layers[i]\n",
        "\n",
        "  if customized_layer.name == vgg16_layer.name:\n",
        "    customized_layer.set_weights(vgg16_layer.get_weights())\n",
        "\n",
        "model.summary()"
      ],
      "metadata": {
        "colab": {
          "base_uri": "https://localhost:8080/"
        },
        "id": "LIkFHwP17o3l",
        "outputId": "d17e7057-06df-4714-a105-d40b4e832f01"
      },
      "execution_count": 15,
      "outputs": [
        {
          "output_type": "stream",
          "name": "stdout",
          "text": [
            "Model: \"my_vgg16_model\"\n",
            "_________________________________________________________________\n",
            " Layer (type)                Output Shape              Param #   \n",
            "=================================================================\n",
            " input_9 (InputLayer)        [(None, 224, 224, 3)]     0         \n",
            "                                                                 \n",
            " block1_conv1 (Conv2D)       (None, 224, 224, 64)      1792      \n",
            "                                                                 \n",
            " block1_conv2 (Conv2D)       (None, 224, 224, 64)      36928     \n",
            "                                                                 \n",
            " block1_pool (MaxPooling2D)  (None, 112, 112, 64)      0         \n",
            "                                                                 \n",
            " block2_conv1 (Conv2D)       (None, 112, 112, 128)     73856     \n",
            "                                                                 \n",
            " block2_conv2 (Conv2D)       (None, 112, 112, 128)     147584    \n",
            "                                                                 \n",
            " block2_pool (MaxPooling2D)  (None, 56, 56, 128)       0         \n",
            "                                                                 \n",
            " block3_conv1 (Conv2D)       (None, 56, 56, 256)       295168    \n",
            "                                                                 \n",
            " block3_conv2 (Conv2D)       (None, 56, 56, 256)       590080    \n",
            "                                                                 \n",
            " block3_conv3 (Conv2D)       (None, 56, 56, 256)       590080    \n",
            "                                                                 \n",
            " block3_pool (MaxPooling2D)  (None, 28, 28, 256)       0         \n",
            "                                                                 \n",
            " block4_conv1 (Conv2D)       (None, 28, 28, 512)       1180160   \n",
            "                                                                 \n",
            " block4_conv2 (Conv2D)       (None, 28, 28, 512)       2359808   \n",
            "                                                                 \n",
            " block4_conv3 (Conv2D)       (None, 28, 28, 512)       2359808   \n",
            "                                                                 \n",
            " block4_pool (MaxPooling2D)  (None, 14, 14, 512)       0         \n",
            "                                                                 \n",
            " block5_conv1 (Conv2D)       (None, 14, 14, 512)       2359808   \n",
            "                                                                 \n",
            " block5_conv2 (Conv2D)       (None, 14, 14, 512)       2359808   \n",
            "                                                                 \n",
            " block5_conv3 (Conv2D)       (None, 14, 14, 512)       2359808   \n",
            "                                                                 \n",
            " block5_pool (MaxPooling2D)  (None, 7, 7, 512)         0         \n",
            "                                                                 \n",
            " flatten (Flatten)           (None, 25088)             0         \n",
            "                                                                 \n",
            " fc1 (Dense)                 (None, 4096)              102764544 \n",
            "                                                                 \n",
            " fc2 (Dense)                 (None, 4096)              16781312  \n",
            "                                                                 \n",
            " output_layer (Dense)        (None, 1000)              4097000   \n",
            "                                                                 \n",
            "=================================================================\n",
            "Total params: 138357544 (527.79 MB)\n",
            "Trainable params: 138357544 (527.79 MB)\n",
            "Non-trainable params: 0 (0.00 Byte)\n",
            "_________________________________________________________________\n"
          ]
        }
      ]
    },
    {
      "cell_type": "markdown",
      "source": [
        "Building a CNN which will look like VGG16, but will not be exactly VGG16"
      ],
      "metadata": {
        "id": "Hj2yCob6raa5"
      }
    },
    {
      "cell_type": "code",
      "source": [
        "inputs = Input((321, 321, 4))\n",
        "x = Conv2D(filters = 64, kernel_size=(3,3), activation = 'relu', name = 'block1_conv1', padding='same')(inputs)\n",
        "x = Conv2D(filters = 64, kernel_size=(3,3), activation = 'relu',name = 'block1_conv2', padding='same')(x)\n",
        "x = MaxPooling2D(name='block1_pool')(x)\n",
        "\n",
        "x = Conv2D(filters = 128, kernel_size=(3,3), activation = 'relu', name = 'block2_conv1', padding='same')(x)\n",
        "x = Conv2D(filters = 128, kernel_size=(3,3), activation = 'relu', name = 'block2_conv2', padding='same')(x)\n",
        "x = Conv2D(filters = 128, kernel_size=(3,3), activation = 'relu', name = 'block2_conv3', padding='same')(x)\n",
        "x = Conv2D(filters = 128, kernel_size=(3,3), activation = 'relu', name = 'block2_conv4', padding='same')(x)\n",
        "x = MaxPooling2D(name='block2_pool')(x)\n",
        "\n",
        "x = Conv2D(filters = 256, kernel_size=(3,3), activation = 'relu', name='block3_conv1', padding='same')(x)\n",
        "x = Conv2D(filters = 256, kernel_size=(3,3), activation = 'relu', name='block3_conv2', padding='same')(x)\n",
        "x = Conv2D(filters = 256, kernel_size=(3,3), activation = 'relu', name='block3_conv3', padding='same')(x)\n",
        "x = MaxPooling2D(name='block3_pool')(x)\n",
        "\n",
        "x = Conv2D(filters = 512, kernel_size=(3,3), activation = 'relu', name='block4_conv1', padding='same')(x)\n",
        "x = Conv2D(filters = 512, kernel_size=(3,3), activation = 'relu', name='block4_conv2', padding='same')(x)\n",
        "x = MaxPooling2D(name='block4_pool')(x)\n",
        "\n",
        "x = Conv2D(filters = 512, kernel_size=(3,3), activation = 'relu', name='block5_conv1', padding='same')(x)\n",
        "x = Conv2D(filters = 512, kernel_size=(3,3), activation = 'relu', name='block5_conv2', padding='same')(x)\n",
        "x = Conv2D(filters = 512, kernel_size=(3,3), activation = 'relu', name='block5_conv3', padding='same')(x)\n",
        "x = Conv2D(filters = 512, kernel_size=(3,3), activation = 'relu', name='block5_conv4', padding='same')(x)\n",
        "x = Conv2D(filters = 512, kernel_size=(3,3), activation = 'relu', name='block5_conv5', padding='same')(x)\n",
        "x = MaxPooling2D(name='block5_pool')(x)\n",
        "\n",
        "x = Flatten(name='flatten')(x)\n",
        "x = Dense(4096, activation='relu', name = 'fc1')(x)\n",
        "x = Dense(4096, activation='relu', name = 'fc2')(x)\n",
        "x = Dense(2048, activation='relu', name = 'fc3')(x)\n",
        "x = Dense(2048, activation='relu', name = 'fc4')(x)\n",
        "x = Dense(1024, activation='relu', name = 'fc5')(x)\n",
        "\n",
        "outputs = Dense(1234, activation = 'sigmoid',name = 'output_layer')(x)\n",
        "model = Model(inputs, outputs, name='my_customized_model')\n",
        "\n",
        "model.summary()"
      ],
      "metadata": {
        "id": "hUW4lyZKrdCd",
        "colab": {
          "base_uri": "https://localhost:8080/"
        },
        "outputId": "50616fd6-3a01-4c76-9ff5-4015a30b6490"
      },
      "execution_count": 16,
      "outputs": [
        {
          "output_type": "stream",
          "name": "stdout",
          "text": [
            "Model: \"my_customized_model\"\n",
            "_________________________________________________________________\n",
            " Layer (type)                Output Shape              Param #   \n",
            "=================================================================\n",
            " input_11 (InputLayer)       [(None, 321, 321, 4)]     0         \n",
            "                                                                 \n",
            " block1_conv1 (Conv2D)       (None, 321, 321, 64)      2368      \n",
            "                                                                 \n",
            " block1_conv2 (Conv2D)       (None, 321, 321, 64)      36928     \n",
            "                                                                 \n",
            " block1_pool (MaxPooling2D)  (None, 160, 160, 64)      0         \n",
            "                                                                 \n",
            " block2_conv1 (Conv2D)       (None, 160, 160, 128)     73856     \n",
            "                                                                 \n",
            " block2_conv2 (Conv2D)       (None, 160, 160, 128)     147584    \n",
            "                                                                 \n",
            " block2_conv3 (Conv2D)       (None, 160, 160, 128)     147584    \n",
            "                                                                 \n",
            " block2_conv4 (Conv2D)       (None, 160, 160, 128)     147584    \n",
            "                                                                 \n",
            " block2_pool (MaxPooling2D)  (None, 80, 80, 128)       0         \n",
            "                                                                 \n",
            " block3_conv1 (Conv2D)       (None, 80, 80, 256)       295168    \n",
            "                                                                 \n",
            " block3_conv2 (Conv2D)       (None, 80, 80, 256)       590080    \n",
            "                                                                 \n",
            " block3_conv3 (Conv2D)       (None, 80, 80, 256)       590080    \n",
            "                                                                 \n",
            " block3_pool (MaxPooling2D)  (None, 40, 40, 256)       0         \n",
            "                                                                 \n",
            " block4_conv1 (Conv2D)       (None, 40, 40, 512)       1180160   \n",
            "                                                                 \n",
            " block4_conv2 (Conv2D)       (None, 40, 40, 512)       2359808   \n",
            "                                                                 \n",
            " block4_pool (MaxPooling2D)  (None, 20, 20, 512)       0         \n",
            "                                                                 \n",
            " block5_conv1 (Conv2D)       (None, 20, 20, 512)       2359808   \n",
            "                                                                 \n",
            " block5_conv2 (Conv2D)       (None, 20, 20, 512)       2359808   \n",
            "                                                                 \n",
            " block5_conv3 (Conv2D)       (None, 20, 20, 512)       2359808   \n",
            "                                                                 \n",
            " block5_conv4 (Conv2D)       (None, 20, 20, 512)       2359808   \n",
            "                                                                 \n",
            " block5_conv5 (Conv2D)       (None, 20, 20, 512)       2359808   \n",
            "                                                                 \n",
            " block5_pool (MaxPooling2D)  (None, 10, 10, 512)       0         \n",
            "                                                                 \n",
            " flatten (Flatten)           (None, 51200)             0         \n",
            "                                                                 \n",
            " fc1 (Dense)                 (None, 4096)              209719296 \n",
            "                                                                 \n",
            " fc2 (Dense)                 (None, 4096)              16781312  \n",
            "                                                                 \n",
            " fc3 (Dense)                 (None, 2048)              8390656   \n",
            "                                                                 \n",
            " fc4 (Dense)                 (None, 2048)              4196352   \n",
            "                                                                 \n",
            " fc5 (Dense)                 (None, 1024)              2098176   \n",
            "                                                                 \n",
            " output_layer (Dense)        (None, 1234)              1264850   \n",
            "                                                                 \n",
            "=================================================================\n",
            "Total params: 259820882 (991.14 MB)\n",
            "Trainable params: 259820882 (991.14 MB)\n",
            "Non-trainable params: 0 (0.00 Byte)\n",
            "_________________________________________________________________\n"
          ]
        }
      ]
    }
  ]
}